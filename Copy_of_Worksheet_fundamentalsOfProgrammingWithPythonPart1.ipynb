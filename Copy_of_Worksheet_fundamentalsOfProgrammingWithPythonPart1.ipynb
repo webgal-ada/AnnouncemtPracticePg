{
  "nbformat": 4,
  "nbformat_minor": 0,
  "metadata": {
    "colab": {
      "name": "Copy of Worksheet - fundamentalsOfProgrammingWithPythonPart1.ipynb",
      "provenance": [],
      "collapsed_sections": [],
      "include_colab_link": true
    },
    "kernelspec": {
      "name": "python3",
      "display_name": "Python 3"
    },
    "language_info": {
      "name": "python"
    }
  },
  "cells": [
    {
      "cell_type": "markdown",
      "metadata": {
        "id": "view-in-github",
        "colab_type": "text"
      },
      "source": [
        "<a href=\"https://colab.research.google.com/github/webgal-ada/AnnouncemtPracticePg/blob/main/Copy_of_Worksheet_fundamentalsOfProgrammingWithPythonPart1.ipynb\" target=\"_parent\"><img src=\"https://colab.research.google.com/assets/colab-badge.svg\" alt=\"Open In Colab\"/></a>"
      ]
    },
    {
      "cell_type": "markdown",
      "metadata": {
        "id": "HvC6lx7BtfyR"
      },
      "source": [
        "# Fundamentals of Programming with Python - Part 1"
      ]
    },
    {
      "cell_type": "markdown",
      "source": [
        ""
      ],
      "metadata": {
        "id": "aMKhzsl4cC10"
      }
    },
    {
      "cell_type": "code",
      "source": [
        ""
      ],
      "metadata": {
        "id": "zhQlKzYUcDhg"
      },
      "execution_count": null,
      "outputs": []
    },
    {
      "cell_type": "markdown",
      "source": [
        ""
      ],
      "metadata": {
        "id": "kBqXl46PcD-5"
      }
    },
    {
      "cell_type": "code",
      "source": [
        ""
      ],
      "metadata": {
        "id": "9_d_1sygb8cT"
      },
      "execution_count": null,
      "outputs": []
    },
    {
      "cell_type": "markdown",
      "source": [
        ""
      ],
      "metadata": {
        "id": "FduXIluQb88Q"
      }
    },
    {
      "cell_type": "markdown",
      "metadata": {
        "id": "ssjJTFZMtuq_"
      },
      "source": [
        "**Why Python?**\n",
        "\n",
        "Its easier to learn compared to other programming languages - it reads close to English. You can use it to build websites, analyze data, and handle servers. "
      ]
    },
    {
      "cell_type": "markdown",
      "metadata": {
        "id": "L6tBUEJiUDSm"
      },
      "source": [
        "# Our First Program"
      ]
    },
    {
      "cell_type": "markdown",
      "metadata": {
        "id": "VLK4GsiWI7JZ"
      },
      "source": [
        "A classic programming pattern is to write a program that displays “Hello World”.  You can write it this way:"
      ]
    },
    {
      "cell_type": "code",
      "metadata": {
        "id": "vpICSzh8CevS"
      },
      "source": [
        "print(\"Hello World!\")"
      ],
      "execution_count": null,
      "outputs": []
    },
    {
      "cell_type": "markdown",
      "metadata": {
        "id": "qBqtMZ38I_UE"
      },
      "source": [
        "Here, print() is a built-in command that will display the characters placed inside the parentheses.  \n",
        "Because what we are printing out is a series of words and characters, called a string, we need to put it inside of quotes. However, quotation marks are not necessary to print out numbers."
      ]
    },
    {
      "cell_type": "markdown",
      "metadata": {
        "id": "vY-d99U5Uci6"
      },
      "source": [
        "# Print Statement"
      ]
    },
    {
      "cell_type": "markdown",
      "metadata": {
        "id": "picUYQnXY-Hc"
      },
      "source": [
        "Let's see some examples of the print statement:"
      ]
    },
    {
      "cell_type": "markdown",
      "metadata": {
        "id": "j6KL_HWLVlj2"
      },
      "source": [
        "Printing numbers:"
      ]
    },
    {
      "cell_type": "code",
      "metadata": {
        "id": "JihR6taUJ_6Y"
      },
      "source": [
        "#we can display numbers, \"0-9\"\n"
      ],
      "execution_count": null,
      "outputs": []
    },
    {
      "cell_type": "markdown",
      "metadata": {
        "id": "rTS6OMV9Voqy"
      },
      "source": [
        "Printing numbers and letters:"
      ]
    },
    {
      "cell_type": "code",
      "metadata": {
        "id": "_qOrdZwJVaZY"
      },
      "source": [
        "#a combination of numbers and letters, Stavros Niarchos Foundation Library address, \"455 5th Ave\"\n"
      ],
      "execution_count": null,
      "outputs": []
    },
    {
      "cell_type": "markdown",
      "metadata": {
        "id": "Ur3a48uGVwhj"
      },
      "source": [
        "Printing punctuation:"
      ]
    },
    {
      "cell_type": "code",
      "metadata": {
        "id": "fNz6XJ_dVcQh"
      },
      "source": [
        "#punctuation, \"Hello World!\"\n"
      ],
      "execution_count": null,
      "outputs": []
    },
    {
      "cell_type": "markdown",
      "metadata": {
        "id": "jS9s0ndzVzV-"
      },
      "source": [
        "Lastly, we can even display special characters such as emojis! To do this we need to get the Unicode character codes for our emojis. You can find a list of Unicode characters here: https://unicode.org/emoji/charts/full-emoji-list.html\n",
        "\n",
        "Let's try Rock Paper Scissors using the Unicode characters \\u270a, \\u270b, and \\u270c."
      ]
    },
    {
      "cell_type": "code",
      "metadata": {
        "id": "eLY9hrpiVeNq"
      },
      "source": [
        "#and special characters, like emojis!, \\u270a \\u270b \\u270c (rock-hand paper-hand scissor-hand)\n"
      ],
      "execution_count": null,
      "outputs": []
    },
    {
      "cell_type": "markdown",
      "metadata": {
        "id": "K-qUuu6TbJUa"
      },
      "source": [
        "#  Case Sensitivity and Indentation"
      ]
    },
    {
      "cell_type": "markdown",
      "metadata": {
        "id": "GxuXEFGTbGPB"
      },
      "source": [
        "**Indentation**\n",
        "\n",
        "Python uses indentation to define blocks of code (loops, ifs, and more). Be careful when using spaces and indents as they might throw errors.\n"
      ]
    },
    {
      "cell_type": "code",
      "metadata": {
        "id": "4JswJph5fzG4"
      },
      "source": [
        "#correct indentation will let your program run smoothly\n"
      ],
      "execution_count": null,
      "outputs": []
    },
    {
      "cell_type": "code",
      "metadata": {
        "id": "-flX5NpXhHvI"
      },
      "source": [
        "#an indent on the 2nd line will cause an IndentationError and stop your program from compiling\n"
      ],
      "execution_count": null,
      "outputs": []
    },
    {
      "cell_type": "markdown",
      "metadata": {
        "id": "8UC9xI62hhlI"
      },
      "source": [
        "**Case Sensitivity**\n",
        "\n",
        "Everything is case sensitive in Python (EVERYTHING) so be conscious of your spelling, both with the letters and their case.\n",
        "\n",
        "Words will commonly be spelled with all lowercase and underscores,snake_case (ex. my_number), or camelCase, where the first letter of each word (except the first) is capitalized (ex. myNumber).\n",
        "\n",
        "Both are valid, but try to be consistent to reduce errors."
      ]
    },
    {
      "cell_type": "code",
      "metadata": {
        "id": "88ssqeNHyG15"
      },
      "source": [
        "print(\"Notice_the_underscores\")\n",
        "\n",
        "print(\"everyFirstLetterIsCapitalized, exceptTheFirstWord\")"
      ],
      "execution_count": null,
      "outputs": []
    },
    {
      "cell_type": "markdown",
      "metadata": {
        "id": "Ss_fGSA4PE3r"
      },
      "source": [
        "Throughout this worksheet, you might notice we use camelCase in our code."
      ]
    },
    {
      "cell_type": "markdown",
      "metadata": {
        "id": "JW6MKUBuUop8"
      },
      "source": [
        "# Variables"
      ]
    },
    {
      "cell_type": "markdown",
      "metadata": {
        "id": "Xq6pwakwWQW4"
      },
      "source": [
        "In Python, we can store information as Variables.\n",
        "\n",
        "Using Variables allows us to store information to access or modify later on.\n",
        "\n",
        "Variables make it easier to work with information because while the value (information) of that variable may change the name remains the same. \n",
        "\n",
        "To make a variable in Python, we need to assign it a value. We do that using the equals sign like this:"
      ]
    },
    {
      "cell_type": "code",
      "metadata": {
        "id": "IMcYmPRiKPlO"
      },
      "source": [
        "#create a Variable named commonPhrase with the information \"cats and dogs\" assigned to it\n",
        "#in this case we assigned text as our information using quotes around our text\n",
        "\n",
        "\n",
        "#print commonPhrase\n",
        "\n",
        "\n",
        "#create a Variable named wholeNumber with the number 12 saved to it\n",
        "#we dont need quotes because we are looking to save the numerical value of 12 not the text 12\n",
        "\n",
        "\n",
        "#print wholeNumber\n",
        "\n",
        "\n",
        "\n",
        "#create a Variable named decimalNumber with the decimal 2.5 saved to it\n",
        "#again, we don't need quotes because we are saving the numerical value\n",
        "\n",
        "\n",
        "#print decimalNumber\n",
        "\n",
        "\n"
      ],
      "execution_count": null,
      "outputs": []
    },
    {
      "cell_type": "markdown",
      "metadata": {
        "id": "PeoRqcN1BTpu"
      },
      "source": [
        "Notice that we write the variable first, then the equals sign, then a piece of information we want to store in the variable. To use a variable, we write the variable anywhere we would use its value."
      ]
    },
    {
      "cell_type": "markdown",
      "metadata": {
        "id": "OjWkSs5Z4jzF"
      },
      "source": [
        "We can also re-assign a value to a variable to change its value."
      ]
    },
    {
      "cell_type": "code",
      "metadata": {
        "id": "LwQg9jnlKt-r"
      },
      "source": [
        "#we can reuse or \"re-assign\" a Variable using it's name and assigning new data to it\n",
        "#assignthe text \"two\" to the variable name wholeNumber\n",
        "\n",
        "\n",
        "#print the variable wholeNumber\n",
        "\n",
        "\n",
        "#now re-assign the integer 2 to the variable name  wholeNumber\n",
        "\n",
        "\n",
        "#print the variable wholeNumber again\n",
        "\n"
      ],
      "execution_count": null,
      "outputs": []
    },
    {
      "cell_type": "markdown",
      "metadata": {
        "id": "aVO94mg9CG2j"
      },
      "source": [
        "**Self Re-assigning Variable**\n",
        "\n",
        "Often we need to increase a variable by one or add something to an existing variable. To do this, we assign a variable to itself and the operations we need:"
      ]
    },
    {
      "cell_type": "code",
      "metadata": {
        "id": "kMN_UsELLCz9"
      },
      "source": [
        "#create new variable named numberOfStudentsInPythonClass with the number of students saved to it\n",
        "#print the variable numberOfStudentsInPythonClass\n",
        "\n",
        "\n",
        "\n",
        "#set numberofStudentsInPythonClass to itself minus 1\n",
        "#print the variable\n",
        "\n",
        "\n",
        "\n",
        "#this line is working the same as the previous\n",
        "#use variableName -= 1 to subtract from itself again\n",
        "#print the vaariable\n",
        "\n",
        "\n",
        "\n",
        "\n",
        "\n"
      ],
      "execution_count": null,
      "outputs": []
    },
    {
      "cell_type": "markdown",
      "metadata": {
        "id": "wPIKNemCU4Jq"
      },
      "source": [
        "# Types"
      ]
    },
    {
      "cell_type": "markdown",
      "metadata": {
        "id": "1717dm-ITfh1"
      },
      "source": [
        "A **type** is a category of data. Every piece of data has a type. A data's type tells us what we can do with it.\n",
        "\n",
        "To check and print a data type use:\n",
        "\n",
        "`print(type(variableName))`\n",
        "\n",
        "Where `type(variableName)` checks the data type of variableName and **`print()`** displays whatever is inside the parantheses. \n",
        "\n",
        "Let's look at some , the first being **`int`**:"
      ]
    },
    {
      "cell_type": "code",
      "metadata": {
        "id": "1hjAzZ0kMBRa"
      },
      "source": [
        "#use the variable int1 and assign it the number value 2\n",
        "#print the data type of int1\n",
        "\n",
        "\n",
        "\n",
        "#set int2 to -1729\n",
        "#print the data type of int2\n",
        "\n",
        "\n",
        "\n",
        "#set int3 to 100, print type int3\n",
        "\n",
        "\n"
      ],
      "execution_count": null,
      "outputs": []
    },
    {
      "cell_type": "markdown",
      "metadata": {
        "id": "uYnOvNHoGH33"
      },
      "source": [
        "Let's try it on **`strings`**:"
      ]
    },
    {
      "cell_type": "code",
      "metadata": {
        "id": "I5O7gIrLNQmH"
      },
      "source": [
        "#set str1 to \"Hello, World!\"\n",
        "#print and check the data type of str1\n",
        "\n",
        "\n",
        "\n",
        "#set str2 to \"455 5th Ave\", print and check data type str2\n",
        "\n",
        "\n",
        "\n",
        "#set str 3 to \"\\u270a \\u270b \\u270c says shoot\", print type str3\n",
        "\n",
        "\n"
      ],
      "execution_count": null,
      "outputs": []
    },
    {
      "cell_type": "markdown",
      "metadata": {
        "id": "BAUfu4s3HB0t"
      },
      "source": [
        "Now, on **`floats`** (decimal numbers):"
      ]
    },
    {
      "cell_type": "code",
      "metadata": {
        "id": "Bc7fNB4JNhxp"
      },
      "source": [
        "#set float1 to 3.5\n",
        "#print and check the data type of float1\n",
        "\n",
        "\n",
        "\n",
        "#set float2 to 1729.002, print and check data type of float2\n",
        "\n",
        "\n",
        "\n",
        "#set float3 to -2.0, print type float3\n",
        "\n"
      ],
      "execution_count": null,
      "outputs": []
    },
    {
      "cell_type": "markdown",
      "metadata": {
        "id": "AtsgYmGCUuqJ"
      },
      "source": [
        "# Operators"
      ]
    },
    {
      "cell_type": "markdown",
      "metadata": {
        "id": "UrG-DVbz5cja"
      },
      "source": [
        "We can do arithmetic and other kinds of math operations in Python."
      ]
    },
    {
      "cell_type": "markdown",
      "metadata": {
        "id": "uJdWUrNLHlu6"
      },
      "source": [
        "Addition and subtraction:"
      ]
    },
    {
      "cell_type": "code",
      "metadata": {
        "id": "-DI7Nw0-5ePk"
      },
      "source": [
        "#addition, add 2+2 to num1\n",
        "\n"
      ],
      "execution_count": null,
      "outputs": []
    },
    {
      "cell_type": "code",
      "metadata": {
        "id": "qzfguOp-5ghZ"
      },
      "source": [
        "#subtraction, subtracting 5-1 and assign to num2\n",
        "\n"
      ],
      "execution_count": null,
      "outputs": []
    },
    {
      "cell_type": "markdown",
      "metadata": {
        "id": "VZuzRNO8HobP"
      },
      "source": [
        "Multiplication and division:"
      ]
    },
    {
      "cell_type": "code",
      "metadata": {
        "id": "vqWX2h7X5in4"
      },
      "source": [
        "#multiplication, multiply 2*2 and assign to num3\n",
        "\n"
      ],
      "execution_count": null,
      "outputs": []
    },
    {
      "cell_type": "code",
      "metadata": {
        "id": "Lbcv0W0s5kxS"
      },
      "source": [
        "#division, divide 12/3 and assign to num4\n",
        "\n"
      ],
      "execution_count": null,
      "outputs": []
    },
    {
      "cell_type": "markdown",
      "metadata": {
        "id": "_Wuq9VSXHsmd"
      },
      "source": [
        "We can make sure we get an integer value with no decimals by using `//`. `//` will get a float and round down to the nearest integer."
      ]
    },
    {
      "cell_type": "code",
      "metadata": {
        "id": "DsszH7IZ5pbq"
      },
      "source": [
        "#integer division, // 5 into 21 to get the integer floored answer (no decimal, rounded down) and assign to num5\n",
        "\n"
      ],
      "execution_count": null,
      "outputs": []
    },
    {
      "cell_type": "markdown",
      "metadata": {
        "id": "j8_3Tc5cH9aI"
      },
      "source": [
        "Using the modulo symbol `%`, we can get the remainder of a division."
      ]
    },
    {
      "cell_type": "code",
      "metadata": {
        "id": "BBxFuWYlLZbH"
      },
      "source": [
        "#remainder, use % (modulo) 5 into 14 to get the remainder, num6\n",
        "\n"
      ],
      "execution_count": null,
      "outputs": []
    },
    {
      "cell_type": "markdown",
      "metadata": {
        "id": "TgbAtaTHHrRx"
      },
      "source": [
        "Exponents:"
      ]
    },
    {
      "cell_type": "code",
      "metadata": {
        "id": "tYNp7j7f5nZC"
      },
      "source": [
        "#exponentiation, 3**2 and assign to num7\n",
        "\n"
      ],
      "execution_count": null,
      "outputs": []
    },
    {
      "cell_type": "markdown",
      "metadata": {
        "id": "MYK_WN4dIbnu"
      },
      "source": [
        "We can try some operations on strings, but we might see some errors."
      ]
    },
    {
      "cell_type": "code",
      "metadata": {
        "id": "h-3BdjgwL19P"
      },
      "source": [
        "#try \"2\"-\"3\"\n",
        "#if you run this code, it will give you an error\n"
      ],
      "execution_count": null,
      "outputs": []
    },
    {
      "cell_type": "code",
      "metadata": {
        "id": "AQBg5lbTI3YT"
      },
      "source": [
        "#try to print \"2\"*\"3\"\n"
      ],
      "execution_count": null,
      "outputs": []
    },
    {
      "cell_type": "code",
      "metadata": {
        "id": "oKcQXN0QJBAV"
      },
      "source": [
        "#try to print \"2\"/\"3\"\n"
      ],
      "execution_count": null,
      "outputs": []
    },
    {
      "cell_type": "markdown",
      "metadata": {
        "id": "8AmsEg6vJKtW"
      },
      "source": [
        "We couldn't use subtraction, multiplication, or division on strings. \n",
        "\n",
        "BUT we can use addition."
      ]
    },
    {
      "cell_type": "code",
      "metadata": {
        "id": "9e1TuVVLJVO6"
      },
      "source": [
        "#try \"2\"+\"3\"\n"
      ],
      "execution_count": null,
      "outputs": []
    },
    {
      "cell_type": "markdown",
      "metadata": {
        "id": "8hOkgXt8U73K"
      },
      "source": [
        "**Concatenation**\n",
        "\n",
        "We did not add the string values together in the previous code. What we *did do* was combine - concatenate - the strings together.\n",
        "\n",
        "We concatenated the strings \"2\" and \"3\" to get the result \"23\".\n",
        "\n",
        "Lets try concatenating again:"
      ]
    },
    {
      "cell_type": "code",
      "metadata": {
        "id": "sNLY0UJvOaD6"
      },
      "source": [
        "#print \"Bob\" + \"Bobbertson\"\n"
      ],
      "execution_count": null,
      "outputs": []
    },
    {
      "cell_type": "markdown",
      "metadata": {
        "id": "q9O5e9NoOmmq"
      },
      "source": [
        "The names display as one string with the no spacing between the first and last name. Lets try again with variables this time:"
      ]
    },
    {
      "cell_type": "code",
      "metadata": {
        "id": "NijGVXbqN4GZ"
      },
      "source": [
        "#create firstName and set to \"Bob\"\n",
        "#create lastName and set to \"Bobbertson\"\n",
        "#print and concatenate firstName + lastName\n",
        "\n",
        "\n",
        "\n"
      ],
      "execution_count": null,
      "outputs": []
    },
    {
      "cell_type": "markdown",
      "metadata": {
        "id": "5lUHn25lOsFA"
      },
      "source": [
        "The names are still displaying as one string with no spacing. This time lets concatenate an empty `\" \"` to our first and last name."
      ]
    },
    {
      "cell_type": "code",
      "metadata": {
        "id": "PUg3HsbaPR2N"
      },
      "source": [
        "#we don't have to recreate or reassign our variables, let's use them again\n",
        "#remember to add the empty \" \"\n"
      ],
      "execution_count": null,
      "outputs": []
    },
    {
      "cell_type": "markdown",
      "metadata": {
        "id": "c5fI-h1RPil8"
      },
      "source": [
        "Great! We have a full name. Let's concatenate more words to our name:"
      ]
    },
    {
      "cell_type": "code",
      "metadata": {
        "id": "3116ZrB8LNVO"
      },
      "source": [
        "#again, we don't have to recreate or reassign our variables\n",
        "#print and concatenate \"Hello \" + firstName + \" \" + lastName + \"!\"\n"
      ],
      "execution_count": null,
      "outputs": []
    },
    {
      "cell_type": "markdown",
      "metadata": {
        "id": "NGHe9OBBJuae"
      },
      "source": [
        "# Functions"
      ]
    },
    {
      "cell_type": "markdown",
      "metadata": {
        "id": "EzHAgAy_P6Sr"
      },
      "source": [
        "Functions allow us to create code that can be reused indefinitely.\n",
        "\n",
        "This is important because a program could have millions of processes and steps running to complete. It would be virtually impossible to write all of that code line by line. \n",
        "\n",
        "With functions, we can take every reusable chunk of code and give it an easy to reuse name.\n",
        "\n",
        "Let's create then break down a function:"
      ]
    },
    {
      "cell_type": "code",
      "metadata": {
        "id": "WYcR2isJQYr5"
      },
      "source": [
        "#define a function called ourFirstFunction():\n",
        "\n",
        "  #print \"Hello World! This is my first function!\" in the body\n",
        "\n",
        "\n",
        "\n",
        "#we get no output, this is fine"
      ],
      "execution_count": null,
      "outputs": []
    },
    {
      "cell_type": "markdown",
      "metadata": {
        "id": "gb4lFG_zQXOT"
      },
      "source": [
        "We just created our first function! \n",
        "\n",
        "A function is created or *defined* using the word `def`.\n",
        "\n",
        "Then we name that function, in our case, `ourFirstFunction()`.\n",
        "\n",
        "The colon, `:` , is used to tell our function where to start/where our *function header* ends.\n",
        "\n",
        "The parantheses `()`, is used for parameters/arguments (more on this later).\n",
        "\n",
        "The rest of the code -*the function body*- is indented so that the program knows what code should run when we call the function.\n"
      ]
    },
    {
      "cell_type": "markdown",
      "metadata": {
        "id": "GsQOZFmVTtJd"
      },
      "source": [
        "Notice that running the code cell above produced no output. In order to produce an output we need to later call that function.\n",
        "\n",
        "Let's call our function:"
      ]
    },
    {
      "cell_type": "code",
      "metadata": {
        "id": "dk5DXCF9cld8"
      },
      "source": [
        "#call our function using its name\n"
      ],
      "execution_count": null,
      "outputs": []
    },
    {
      "cell_type": "markdown",
      "metadata": {
        "id": "4dcUcTuZUKtY"
      },
      "source": [
        "To call our function, all we did was write the function name with the parantheses. "
      ]
    },
    {
      "cell_type": "markdown",
      "metadata": {
        "id": "G9VhfpGyUtpx"
      },
      "source": [
        "Let's create another function:"
      ]
    },
    {
      "cell_type": "code",
      "metadata": {
        "id": "SgvFR3OhVjgc"
      },
      "source": [
        "#create a function called ourSecondFunction():\n",
        "\n",
        "  #set four to 2+2\n",
        "\n",
        "  #print four\n",
        "\n",
        "\n",
        "\n",
        "\n",
        "#call ourSecondFunction()\n"
      ],
      "execution_count": null,
      "outputs": []
    },
    {
      "cell_type": "markdown",
      "metadata": {
        "id": "GFga3-wGXZuh"
      },
      "source": [
        "**Returning**\n",
        "\n",
        "The **`return`** keyword means that the function will output a value. \n",
        "\n",
        "Think of returning like creating a variable that stores a function instead of a value. \n",
        "\n",
        "Just like variables, we can call a function anywhere we would normally use its result, and then the returned value is inserted in its place.\n",
        "\n",
        "Let's try it out:"
      ]
    },
    {
      "cell_type": "code",
      "metadata": {
        "id": "JtApR55pXtpm"
      },
      "source": [
        "#define a new function called ourReturnFunction()\n",
        "\n",
        "  #return using the word 'return' with whatever you'd like to output, 2+2\n",
        "\n",
        "\n",
        "#assign ourReturnFunction() to a variable named four\n",
        "\n",
        "\n",
        "#print four, it should print 4\n",
        "\n",
        "\n",
        "#now print ourReturnFunction(), it should still be 4\n"
      ],
      "execution_count": null,
      "outputs": []
    },
    {
      "cell_type": "markdown",
      "metadata": {
        "id": "eWrNTyaaYqXx"
      },
      "source": [
        "One important note about using **return**. Once a value is returned out of a function, nothing else in the function will run. This is something we can take advantage of, but you should always be aware of it."
      ]
    },
    {
      "cell_type": "markdown",
      "metadata": {
        "id": "LggqNdIodxfa"
      },
      "source": [
        "**Arguments vs Parameters**\n",
        "\n",
        "We can define our functions to behave differently based on values we pass into them. \n",
        "\n",
        "These values are called **`arguments`**. We can place these arguments inside of the paranthesis when we call our function. Ex:\n",
        "\n",
        "`ourFunction(arg1,arg2,arg3,...)`\n",
        "\n",
        "In order to pass values - arguments - when we call our function, we need to make sure we give it a **`parameter`** or **`parameters`**.\n",
        "\n",
        "`def ourFunction(parameter1, parameter2):`\n",
        "\n",
        "In the following code cell, we define a function with two parameters. We pass in argurments during our call and return the product."
      ]
    },
    {
      "cell_type": "code",
      "metadata": {
        "id": "5bKOuJEYPHy-"
      },
      "source": [
        "#here we define a function with two parameters, int1 and int2\n",
        "#return int1*int2\n",
        "\n",
        "\n",
        "\n",
        "#when we call our function we must provide it with two arguments\n",
        "#print our function twice with different arguments each time\n",
        "\n",
        "\n",
        "#the arguments can also be variables, create number1 and number2 with 2 and 20 assigned respectively\n",
        "#print our function passing the variables\n",
        "\n",
        "\n",
        "\n",
        "\n"
      ],
      "execution_count": null,
      "outputs": []
    },
    {
      "cell_type": "markdown",
      "metadata": {
        "id": "OFKuLv7dgDO_"
      },
      "source": [
        "**Scope**\n",
        "\n",
        "The scope of a variable is the part of the program where a variable can be accessed or modified. \n",
        "\n",
        "Variables defined in a function are called local variables; the scope of such variables is limited to the functions in which they are defined.\n",
        "\n",
        "Variables defined outside of a function are called global variables; the scope of such variables is the entire program."
      ]
    },
    {
      "cell_type": "code",
      "metadata": {
        "id": "0OiTMMh5Pna-"
      },
      "source": [
        "#this code will give you an error because we made a mistake with scope\n",
        "#we tried to modify a variable inside a function that was defined outside of it\n",
        "\n",
        "\n",
        "\n",
        "\n",
        "\n",
        "\n",
        "\n",
        "\n"
      ],
      "execution_count": null,
      "outputs": []
    },
    {
      "cell_type": "markdown",
      "metadata": {
        "id": "uDjX3NX5-vC9"
      },
      "source": [
        "We can resolve the above error by making the \"count\" variable accessible from inside the function. We do that by adding the line \"global count\"."
      ]
    },
    {
      "cell_type": "code",
      "metadata": {
        "id": "WHfczkFkQEnT"
      },
      "source": [
        "#we fix the code above by adding \"global count\" to the first line of our function\n",
        "#this tells Python to look for a variable named count defined outside the function,\n",
        "# and if it finds it, then we modify that same count variable inside the function\n",
        "\n",
        "\n",
        "\n",
        "#this should display 0\n",
        "\n",
        "\n",
        "#this should display 1\n",
        "\n"
      ],
      "execution_count": null,
      "outputs": []
    },
    {
      "cell_type": "markdown",
      "metadata": {
        "id": "eDEWAOwS_hwH"
      },
      "source": [
        "Here we define a function that returns the product of two numbers that are provided as arguments, but before returning the product, the function saves that value in a variable called \"result\". After calling the function, when we try to display the value of \"result\", we get an error because we're trying to access it outside of its scope."
      ]
    },
    {
      "cell_type": "code",
      "metadata": {
        "id": "pUnN25giQHHm"
      },
      "source": [
        "#this code will give you an error because we made another mistake with scope\n",
        "#we tried to access a variable defined inside of a function outside of it\n",
        "#variables defined inside of a function are said to have \"local\" scope\n",
        "\n",
        "\n"
      ],
      "execution_count": null,
      "outputs": []
    },
    {
      "cell_type": "markdown",
      "metadata": {
        "id": "BVoTyWsLAQit"
      },
      "source": [
        "We can access the value of \"result\" outside of its local scope by making it a global variable, which we do by adding the line \"global result\"."
      ]
    },
    {
      "cell_type": "code",
      "metadata": {
        "id": "3NN9IuPvQ16l"
      },
      "source": [
        "#we fix the code above by adding \"global result\" to the first line of our function\n",
        "#this tells Python to look for a variable named result outside of the function, and\n",
        "# if it can't find one, then it creates one that can be accessed outside of the function\n"
      ],
      "execution_count": null,
      "outputs": []
    },
    {
      "cell_type": "markdown",
      "metadata": {
        "id": "zb80efSOAaLH"
      },
      "source": [
        "While we used the \"global\" keyword to resolve the issues with scope that we encountered in the previous code cells, it's generally considered bad practice to use it in our programs. [Here's a good reason why](https://stackoverflow.com/a/485020/15771805). \n",
        "\n",
        "We could have fixed both issues without resorting to global variables. The first issue could have been resolved by creating a Count class with a \"count\" property and \"incrementCount\" method. For the second issue, since we already had access to the return value, there was no need to read the value of \"result\".\n",
        "\n",
        "Here's an example of how to improve the last code example by rewriting it without using \"global\":\n",
        "\n"
      ]
    },
    {
      "cell_type": "code",
      "metadata": {
        "id": "RJlt5B_92C3z"
      },
      "source": [
        "#try to improve the cell above\n"
      ],
      "execution_count": null,
      "outputs": []
    },
    {
      "cell_type": "markdown",
      "metadata": {
        "id": "qLeFAy9BVDzd"
      },
      "source": [
        "# Getting User Input & Converting Types"
      ]
    },
    {
      "cell_type": "markdown",
      "metadata": {
        "id": "_pSrN-KQEIM-"
      },
      "source": [
        "We can get user input by using the input() function. We display a message to the user, possibly containing instructions on what they should type, by writing some text in between the parentheses of the input() function.\n",
        "\n",
        "The following program takes in a user's first and last name and displays a message greeting them."
      ]
    },
    {
      "cell_type": "code",
      "metadata": {
        "id": "cl7KCwTxQ4gx"
      },
      "source": [
        "#create a variable for someone's first name and ask them for their's using input()\n",
        "#create a variable for someone's last name and ask them for their's using input()\n",
        "#print their first and last name\n",
        "\n",
        "\n",
        "\n",
        " \n",
        " #saves user input in the variable firstName\n",
        " #saves user input in the variable lastName\n"
      ],
      "execution_count": null,
      "outputs": []
    },
    {
      "cell_type": "markdown",
      "metadata": {
        "id": "nlcAD32tEurA"
      },
      "source": [
        "Here, we attempt to display the sum of two integers that we get from the user. Since the input comes in as a string, Python treats the \"+\" as string concatenation, not as addition."
      ]
    },
    {
      "cell_type": "code",
      "metadata": {
        "id": "wsZdXsFRRI7A"
      },
      "source": [
        "#ask for input() for 2 numbers separated by a space and assign it to a variable called twoNumbers\n",
        "\n",
        "\n",
        "#.split() splits text at the spaces, so when it takes a string that looks like \"16 23\", it returns \"16\", \"23\"\n",
        "#we can capture the 16 and 23 in individual variables by listing two variable names separated by commas to the left of the equals sign\n",
        "\n",
        "\n",
        "#lets add them up and assign the result to a variable\n",
        "\n"
      ],
      "execution_count": null,
      "outputs": []
    },
    {
      "cell_type": "markdown",
      "metadata": {
        "id": "82gm3Oz0FNZD"
      },
      "source": [
        "Here, we fix the previous problem by converting the numbers we get from the user to integers. That way, the two numbers get added as expected."
      ]
    },
    {
      "cell_type": "code",
      "metadata": {
        "id": "0DqNhuDwSix2"
      },
      "source": [
        "#ask for input() again, two number saparated by a space\n",
        "\n",
        "\n",
        "#.split() and assign\n",
        "\n",
        "\n",
        "#we fix the problem in the code above by converting the two variables to the 'int' type - int(variableName)\n",
        "#sum the variables and print the result\n",
        "\n",
        "\n"
      ],
      "execution_count": null,
      "outputs": []
    },
    {
      "cell_type": "markdown",
      "metadata": {
        "id": "cqETG3PxFe_A"
      },
      "source": [
        "Here's a final example that displays the product of the two user-provided numbers."
      ]
    },
    {
      "cell_type": "code",
      "metadata": {
        "id": "LcbtGm4TSn3X"
      },
      "source": [
        "#this is a final example that ties everything in part 1 together\n",
        "#ask for input of two numbers separated by a space\n",
        "\n",
        "\n",
        "#.split() and assign input to two variables\n",
        "\n",
        "\n",
        "#define a function with 2 parameters\n",
        "#return the product of multiplying the arguments\n",
        "\n",
        "\n",
        "\n",
        "#call the function passing the .split() variables as arguments, assign it to a variable\n",
        "\n",
        "\n",
        "#print the result\n",
        "\n"
      ],
      "execution_count": null,
      "outputs": []
    },
    {
      "cell_type": "markdown",
      "metadata": {
        "id": "Rk7Bzlrx-E7R"
      },
      "source": [
        "# Resources for further learning"
      ]
    },
    {
      "cell_type": "markdown",
      "metadata": {
        "id": "OqwNaH-x-KaK"
      },
      "source": [
        "In [LinkedIn Learning](https://www.linkedin.com/learning-login/go/nypl), which is free to everyone with an NYPL library card, we recommend two of their courses in particular:\n",
        "\n",
        "1. Learning Python: https://www.linkedin.com/learning/learning-python/\n",
        "2. Python Essential Training: https://www.linkedin.com/learning/python-essential-training-2018/\n",
        "\n",
        "We also recommend the following books for further Python practice:\n",
        "\n",
        "1. Automate the boring stuff with Python: practical programming for total beginners by Al Sweigart\n",
        "2. Python crash course: a hands-on, project-based introduction to programming by Eric Matthes\n",
        "3. Real-world python: a hacker's guide to solving problems with code by Lee Vaughan\n",
        "\n",
        "All three books can be found in the NYPL catalog. The first book can also be found for free online at https://automatetheboringstuff.com/."
      ]
    }
  ]
}